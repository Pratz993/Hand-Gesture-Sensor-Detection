{
 "cells": [
  {
   "cell_type": "code",
   "execution_count": 1,
   "metadata": {},
   "outputs": [],
   "source": [
    "import pandas as pd\n",
    "import numpy as np\n",
    "import os"
   ]
  },
  {
   "cell_type": "code",
   "execution_count": 2,
   "metadata": {},
   "outputs": [],
   "source": [
    "file_dir = \"C:/Users/Asus/Desktop/Master Thesis/bbdc_2020_public_data/bbdc_2020/test/emg\"\n",
    "\n",
    "entries = os.listdir(file_dir)\n",
    "\n",
    "subjects = []\n",
    "\n",
    "def load_files(files,sub_data,dir_st):\n",
    "    for subject_file in files:\n",
    "        sub_data.append(pd.read_csv(dir_st + \"/\" + subject_file))\n",
    "    return sub_data\n",
    "\n",
    "subjects = load_files(entries,subjects,file_dir)"
   ]
  },
  {
   "cell_type": "code",
   "execution_count": null,
   "metadata": {},
   "outputs": [],
   "source": []
  }
 ],
 "metadata": {
  "kernelspec": {
   "display_name": "Python 3",
   "language": "python",
   "name": "python3"
  },
  "language_info": {
   "codemirror_mode": {
    "name": "ipython",
    "version": 3
   },
   "file_extension": ".py",
   "mimetype": "text/x-python",
   "name": "python",
   "nbconvert_exporter": "python",
   "pygments_lexer": "ipython3",
   "version": "3.8.5"
  }
 },
 "nbformat": 4,
 "nbformat_minor": 4
}

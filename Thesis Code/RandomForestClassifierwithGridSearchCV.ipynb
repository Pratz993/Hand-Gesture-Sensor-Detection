{
 "cells": [
  {
   "cell_type": "code",
   "execution_count": 11,
   "metadata": {},
   "outputs": [],
   "source": [
    "from sklearn.model_selection import train_test_split\n",
    "from sklearn.ensemble import RandomForestClassifier \n",
    "import pandas as pd\n",
    "from sklearn.model_selection import cross_val_score\n",
    "from sklearn.model_selection import GridSearchCV\n",
    "from sklearn.metrics import accuracy_score, confusion_matrix, classification_report"
   ]
  },
  {
   "cell_type": "code",
   "execution_count": 2,
   "metadata": {},
   "outputs": [],
   "source": [
    "preprocessed_df = pd.read_csv(\"C:/Users/Asus/Desktop/Master Thesis/bbdc_2020_public_data/bbdc_2020/preprocessed/train_left.csv\")\n",
    "X_train, X_test, y_train, y_test = train_test_split(preprocessed_df.iloc[:,:-1], preprocessed_df.iloc[:,-1], test_size = 0.70)"
   ]
  },
  {
   "cell_type": "code",
   "execution_count": 3,
   "metadata": {},
   "outputs": [],
   "source": [
    "param_grid = { \n",
    "    'n_estimators': [50, 80, 100, 150, 200,300,400,500,1000],\n",
    "    'max_features': ['auto', 'sqrt', 'log2'],\n",
    "    'max_depth' : [40,50,60,70,80,90,100],\n",
    "    'criterion' :['gini', 'entropy'],\n",
    "    'max_features' : [10,15,20,30,40,48,57],\n",
    "    'bootstrap': [True, False]\n",
    "}"
   ]
  },
  {
   "cell_type": "code",
   "execution_count": 4,
   "metadata": {},
   "outputs": [],
   "source": [
    "model = RandomForestClassifier()\n",
    "grid_search = GridSearchCV(estimator = model, param_grid = param_grid, \n",
    "                          cv = 5, n_jobs = -1, verbose = 2)"
   ]
  },
  {
   "cell_type": "code",
   "execution_count": 5,
   "metadata": {},
   "outputs": [
    {
     "name": "stdout",
     "output_type": "stream",
     "text": [
      "Fitting 5 folds for each of 1764 candidates, totalling 8820 fits\n"
     ]
    },
    {
     "name": "stderr",
     "output_type": "stream",
     "text": [
      "[Parallel(n_jobs=-1)]: Using backend LokyBackend with 8 concurrent workers.\n",
      "[Parallel(n_jobs=-1)]: Done  25 tasks      | elapsed:   34.1s\n",
      "[Parallel(n_jobs=-1)]: Done 146 tasks      | elapsed: 10.0min\n",
      "[Parallel(n_jobs=-1)]: Done 349 tasks      | elapsed: 48.5min\n",
      "[Parallel(n_jobs=-1)]: Done 632 tasks      | elapsed: 94.1min\n",
      "[Parallel(n_jobs=-1)]: Done 997 tasks      | elapsed: 149.3min\n",
      "[Parallel(n_jobs=-1)]: Done 1442 tasks      | elapsed: 217.2min\n",
      "[Parallel(n_jobs=-1)]: Done 1969 tasks      | elapsed: 330.7min\n",
      "[Parallel(n_jobs=-1)]: Done 2576 tasks      | elapsed: 480.5min\n",
      "[Parallel(n_jobs=-1)]: Done 3265 tasks      | elapsed: 688.3min\n",
      "[Parallel(n_jobs=-1)]: Done 4034 tasks      | elapsed: 933.1min\n",
      "[Parallel(n_jobs=-1)]: Done 4885 tasks      | elapsed: 1166.3min\n",
      "[Parallel(n_jobs=-1)]: Done 5816 tasks      | elapsed: 1396.2min\n",
      "[Parallel(n_jobs=-1)]: Done 6829 tasks      | elapsed: 1688.3min\n",
      "[Parallel(n_jobs=-1)]: Done 7922 tasks      | elapsed: 2279.8min\n",
      "[Parallel(n_jobs=-1)]: Done 8820 out of 8820 | elapsed: 2777.3min finished\n"
     ]
    },
    {
     "data": {
      "text/plain": [
       "GridSearchCV(cv=5, estimator=RandomForestClassifier(), n_jobs=-1,\n",
       "             param_grid={'bootstrap': [True, False],\n",
       "                         'criterion': ['gini', 'entropy'],\n",
       "                         'max_depth': [40, 50, 60, 70, 80, 90, 100],\n",
       "                         'max_features': [10, 15, 20, 30, 40, 48, 57],\n",
       "                         'n_estimators': [50, 80, 100, 150, 200, 300, 400, 500,\n",
       "                                          1000]},\n",
       "             verbose=2)"
      ]
     },
     "execution_count": 5,
     "metadata": {},
     "output_type": "execute_result"
    }
   ],
   "source": [
    "grid_search.fit(X_train,y_train)"
   ]
  },
  {
   "cell_type": "code",
   "execution_count": 6,
   "metadata": {},
   "outputs": [
    {
     "data": {
      "text/plain": [
       "{'bootstrap': False,\n",
       " 'criterion': 'gini',\n",
       " 'max_depth': 60,\n",
       " 'max_features': 10,\n",
       " 'n_estimators': 1000}"
      ]
     },
     "execution_count": 6,
     "metadata": {},
     "output_type": "execute_result"
    }
   ],
   "source": [
    "grid_search.best_params_"
   ]
  },
  {
   "cell_type": "code",
   "execution_count": 7,
   "metadata": {},
   "outputs": [
    {
     "name": "stdout",
     "output_type": "stream",
     "text": [
      "RandomForestClassifier(bootstrap=False, max_depth=60, max_features=10,\n",
      "                       n_estimators=1000)\n"
     ]
    }
   ],
   "source": [
    "best_grid = grid_search.best_estimator_\n",
    "print(best_grid)\n",
    "#grid_accuracy = predict(best_grid, X_test, y_test)"
   ]
  },
  {
   "cell_type": "code",
   "execution_count": 8,
   "metadata": {},
   "outputs": [],
   "source": [
    "y_pred = grid_search.predict(X_test)"
   ]
  },
  {
   "cell_type": "code",
   "execution_count": null,
   "metadata": {},
   "outputs": [],
   "source": [
    "print(y_pred)"
   ]
  },
  {
   "cell_type": "code",
   "execution_count": 9,
   "metadata": {},
   "outputs": [
    {
     "name": "stdout",
     "output_type": "stream",
     "text": [
      "Accuracy score 0.6985542322145086\n",
      "Classification report  \n",
      "               precision    recall  f1-score   support\n",
      "\n",
      "           0       0.81      0.87      0.84      7366\n",
      "           1       0.79      0.06      0.10       597\n",
      "           2       0.00      0.00      0.00       257\n",
      "           3       0.54      0.25      0.35      1458\n",
      "           4       0.60      0.81      0.69      4659\n",
      "           5       0.50      0.28      0.36      1364\n",
      "\n",
      "    accuracy                           0.70     15701\n",
      "   macro avg       0.54      0.38      0.39     15701\n",
      "weighted avg       0.68      0.70      0.67     15701\n",
      "\n"
     ]
    },
    {
     "name": "stderr",
     "output_type": "stream",
     "text": [
      "C:\\Users\\Asus\\anaconda3\\lib\\site-packages\\sklearn\\metrics\\_classification.py:1221: UndefinedMetricWarning: Precision and F-score are ill-defined and being set to 0.0 in labels with no predicted samples. Use `zero_division` parameter to control this behavior.\n",
      "  _warn_prf(average, modifier, msg_start, len(result))\n"
     ]
    }
   ],
   "source": [
    "print(\"Accuracy score %s\" %accuracy_score(y_test,y_pred))\n",
    "print(\"Classification report  \\n %s\" %(classification_report(y_test, y_pred)))"
   ]
  },
  {
   "cell_type": "code",
   "execution_count": 10,
   "metadata": {},
   "outputs": [
    {
     "name": "stdout",
     "output_type": "stream",
     "text": [
      "0.7017388710595072\n"
     ]
    }
   ],
   "source": [
    "print(grid_search.best_score_)"
   ]
  },
  {
   "cell_type": "code",
   "execution_count": 13,
   "metadata": {},
   "outputs": [
    {
     "name": "stdout",
     "output_type": "stream",
     "text": [
      "Confusion Matrix [[6394    3    0   70  807   92]\n",
      " [ 214   33    0   37  263   50]\n",
      " [  45    0    0    7  189   16]\n",
      " [ 361    1    0  371  617  108]\n",
      " [ 690    1    0   71 3785  112]\n",
      " [ 201    4    0  132  642  385]]\n"
     ]
    }
   ],
   "source": [
    "print(\"Confusion Matrix %s\" %confusion_matrix(y_test,y_pred))"
   ]
  },
  {
   "cell_type": "code",
   "execution_count": 14,
   "metadata": {},
   "outputs": [
    {
     "data": {
      "text/plain": [
       "['mean_fit_time',\n",
       " 'mean_score_time',\n",
       " 'mean_test_score',\n",
       " 'param_bootstrap',\n",
       " 'param_criterion',\n",
       " 'param_max_depth',\n",
       " 'param_max_features',\n",
       " 'param_n_estimators',\n",
       " 'params',\n",
       " 'rank_test_score',\n",
       " 'split0_test_score',\n",
       " 'split1_test_score',\n",
       " 'split2_test_score',\n",
       " 'split3_test_score',\n",
       " 'split4_test_score',\n",
       " 'std_fit_time',\n",
       " 'std_score_time',\n",
       " 'std_test_score']"
      ]
     },
     "execution_count": 14,
     "metadata": {},
     "output_type": "execute_result"
    }
   ],
   "source": [
    "sorted(grid_search.cv_results_.keys())"
   ]
  },
  {
   "cell_type": "code",
   "execution_count": 17,
   "metadata": {},
   "outputs": [
    {
     "data": {
      "text/plain": [
       "array([0.68554163, 0.68806774, 0.69252551, ..., 0.66711457, 0.66964024,\n",
       "       0.66978839])"
      ]
     },
     "execution_count": 17,
     "metadata": {},
     "output_type": "execute_result"
    }
   ],
   "source": [
    "grid_search.cv_results_['mean_test_score']"
   ]
  },
  {
   "cell_type": "code",
   "execution_count": 19,
   "metadata": {},
   "outputs": [
    {
     "data": {
      "text/plain": [
       "array([0.00765502, 0.00757878, 0.00597461, ..., 0.00952567, 0.01033298,\n",
       "       0.00895138])"
      ]
     },
     "execution_count": 19,
     "metadata": {},
     "output_type": "execute_result"
    }
   ],
   "source": [
    "grid_search.cv_results_['std_test_score']"
   ]
  },
  {
   "cell_type": "code",
   "execution_count": 20,
   "metadata": {},
   "outputs": [
    {
     "data": {
      "text/plain": [
       "array([1336, 1114,  462, ..., 1685, 1654, 1652])"
      ]
     },
     "execution_count": 20,
     "metadata": {},
     "output_type": "execute_result"
    }
   ],
   "source": [
    "grid_search.cv_results_['rank_test_score']"
   ]
  },
  {
   "cell_type": "code",
   "execution_count": 21,
   "metadata": {},
   "outputs": [
    {
     "data": {
      "text/plain": [
       "array([   2.94731994,    4.7409256 ,    6.02030668, ...,  579.81210918,\n",
       "        721.62971506, 1106.27304306])"
      ]
     },
     "execution_count": 21,
     "metadata": {},
     "output_type": "execute_result"
    }
   ],
   "source": [
    "grid_search.cv_results_['mean_fit_time']"
   ]
  },
  {
   "cell_type": "code",
   "execution_count": null,
   "metadata": {},
   "outputs": [],
   "source": []
  }
 ],
 "metadata": {
  "kernelspec": {
   "display_name": "Python 3",
   "language": "python",
   "name": "python3"
  },
  "language_info": {
   "codemirror_mode": {
    "name": "ipython",
    "version": 3
   },
   "file_extension": ".py",
   "mimetype": "text/x-python",
   "name": "python",
   "nbconvert_exporter": "python",
   "pygments_lexer": "ipython3",
   "version": "3.8.5"
  }
 },
 "nbformat": 4,
 "nbformat_minor": 4
}

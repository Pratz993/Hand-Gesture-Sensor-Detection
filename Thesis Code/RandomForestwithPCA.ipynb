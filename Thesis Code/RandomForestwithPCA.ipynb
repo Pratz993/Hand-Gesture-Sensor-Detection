{
 "cells": [
  {
   "cell_type": "code",
   "execution_count": 1,
   "metadata": {},
   "outputs": [],
   "source": [
    "from sklearn.decomposition import PCA\n",
    "from sklearn.model_selection import train_test_split\n",
    "from sklearn.ensemble import RandomForestClassifier \n",
    "import pandas as pd\n",
    "from sklearn.metrics import accuracy_score, classification_report, confusion_matrix\n",
    "from sklearn.preprocessing import StandardScaler"
   ]
  },
  {
   "cell_type": "code",
   "execution_count": 2,
   "metadata": {},
   "outputs": [],
   "source": [
    "preprocessed_df_left = pd.read_csv(\"C:/Users/Asus/Desktop/Master Thesis/bbdc_2020_public_data/bbdc_2020/preprocessed/train_left.csv\")\n",
    "X_train_left, X_test_left, y_train_left, y_test_left = train_test_split(preprocessed_df_left.iloc[:,:-1], preprocessed_df_left.iloc[:,-1], test_size = 0.70)"
   ]
  },
  {
   "cell_type": "code",
   "execution_count": 3,
   "metadata": {},
   "outputs": [],
   "source": [
    "sc = StandardScaler()\n",
    "X_train_left = sc.fit_transform(X_train_left)\n",
    "X_test_left = sc.transform(X_test_left)"
   ]
  },
  {
   "cell_type": "code",
   "execution_count": 5,
   "metadata": {},
   "outputs": [],
   "source": [
    "pca = PCA()\n",
    "X_train_left = pca.fit_transform(X_train_left)\n",
    "X_test_left = pca.transform(X_test_left)"
   ]
  },
  {
   "cell_type": "code",
   "execution_count": 6,
   "metadata": {},
   "outputs": [],
   "source": [
    "model = RandomForestClassifier(n_estimators= 50, random_state= 30)\n",
    "model.fit(X_train_left,y_train_left)\n",
    "y_pred_left = model.predict(X_test_left)"
   ]
  },
  {
   "cell_type": "code",
   "execution_count": 7,
   "metadata": {},
   "outputs": [
    {
     "name": "stdout",
     "output_type": "stream",
     "text": [
      "[[6269    1    0   58  988   47]\n",
      " [ 270    0    0   37  266   24]\n",
      " [  73    0    0    5  158    4]\n",
      " [ 520    0    0  168  667   78]\n",
      " [1423    0    0   84 3202   52]\n",
      " [ 319    0    0   92  763  133]]\n",
      "              precision    recall  f1-score   support\n",
      "\n",
      "           0       0.71      0.85      0.77      7363\n",
      "           1       0.00      0.00      0.00       597\n",
      "           2       0.00      0.00      0.00       240\n",
      "           3       0.38      0.12      0.18      1433\n",
      "           4       0.53      0.67      0.59      4761\n",
      "           5       0.39      0.10      0.16      1307\n",
      "\n",
      "    accuracy                           0.62     15701\n",
      "   macro avg       0.33      0.29      0.28     15701\n",
      "weighted avg       0.56      0.62      0.57     15701\n",
      "\n",
      "0.6223807400802497\n"
     ]
    },
    {
     "name": "stderr",
     "output_type": "stream",
     "text": [
      "C:\\Users\\Asus\\anaconda3\\lib\\site-packages\\sklearn\\metrics\\_classification.py:1221: UndefinedMetricWarning: Precision and F-score are ill-defined and being set to 0.0 in labels with no predicted samples. Use `zero_division` parameter to control this behavior.\n",
      "  _warn_prf(average, modifier, msg_start, len(result))\n"
     ]
    }
   ],
   "source": [
    "print(confusion_matrix(y_test_left,y_pred_left))\n",
    "print(classification_report(y_test_left,y_pred_left))\n",
    "print(accuracy_score(y_test_left, y_pred_left))"
   ]
  },
  {
   "cell_type": "code",
   "execution_count": 8,
   "metadata": {},
   "outputs": [],
   "source": [
    "model = RandomForestClassifier(n_estimators= 100, random_state= 30)\n",
    "model.fit(X_train_left,y_train_left)\n",
    "y_pred_left = model.predict(X_test_left)"
   ]
  },
  {
   "cell_type": "code",
   "execution_count": 9,
   "metadata": {},
   "outputs": [
    {
     "name": "stdout",
     "output_type": "stream",
     "text": [
      "[[6273    0    0   45  991   54]\n",
      " [ 260    1    0   28  281   27]\n",
      " [  68    0    0    7  162    3]\n",
      " [ 495    0    0  154  707   77]\n",
      " [1318    0    0   64 3328   51]\n",
      " [ 273    0    0   81  825  128]]\n",
      "              precision    recall  f1-score   support\n",
      "\n",
      "           0       0.72      0.85      0.78      7363\n",
      "           1       1.00      0.00      0.00       597\n",
      "           2       0.00      0.00      0.00       240\n",
      "           3       0.41      0.11      0.17      1433\n",
      "           4       0.53      0.70      0.60      4761\n",
      "           5       0.38      0.10      0.16      1307\n",
      "\n",
      "    accuracy                           0.63     15701\n",
      "   macro avg       0.51      0.29      0.29     15701\n",
      "weighted avg       0.61      0.63      0.58     15701\n",
      "\n",
      "0.6295140436914847\n"
     ]
    },
    {
     "name": "stderr",
     "output_type": "stream",
     "text": [
      "C:\\Users\\Asus\\anaconda3\\lib\\site-packages\\sklearn\\metrics\\_classification.py:1221: UndefinedMetricWarning: Precision and F-score are ill-defined and being set to 0.0 in labels with no predicted samples. Use `zero_division` parameter to control this behavior.\n",
      "  _warn_prf(average, modifier, msg_start, len(result))\n"
     ]
    }
   ],
   "source": [
    "print(confusion_matrix(y_test_left,y_pred_left))\n",
    "print(classification_report(y_test_left,y_pred_left))\n",
    "print(accuracy_score(y_test_left, y_pred_left))"
   ]
  },
  {
   "cell_type": "code",
   "execution_count": 10,
   "metadata": {},
   "outputs": [],
   "source": [
    "model = RandomForestClassifier(n_estimators= 150, random_state= 30)\n",
    "model.fit(X_train_left,y_train_left)\n",
    "y_pred_left = model.predict(X_test_left)"
   ]
  },
  {
   "cell_type": "code",
   "execution_count": 11,
   "metadata": {},
   "outputs": [
    {
     "name": "stdout",
     "output_type": "stream",
     "text": [
      "[[6272    0    0   39 1002   50]\n",
      " [ 259    1    0   33  283   21]\n",
      " [  60    0    0    5  172    3]\n",
      " [ 477    0    0  146  741   69]\n",
      " [1268    0    0   53 3394   46]\n",
      " [ 254    0    0   88  859  106]]\n",
      "              precision    recall  f1-score   support\n",
      "\n",
      "           0       0.73      0.85      0.79      7363\n",
      "           1       1.00      0.00      0.00       597\n",
      "           2       0.00      0.00      0.00       240\n",
      "           3       0.40      0.10      0.16      1433\n",
      "           4       0.53      0.71      0.61      4761\n",
      "           5       0.36      0.08      0.13      1307\n",
      "\n",
      "    accuracy                           0.63     15701\n",
      "   macro avg       0.50      0.29      0.28     15701\n",
      "weighted avg       0.61      0.63      0.58     15701\n",
      "\n",
      "0.6317432010699956\n"
     ]
    },
    {
     "name": "stderr",
     "output_type": "stream",
     "text": [
      "C:\\Users\\Asus\\anaconda3\\lib\\site-packages\\sklearn\\metrics\\_classification.py:1221: UndefinedMetricWarning: Precision and F-score are ill-defined and being set to 0.0 in labels with no predicted samples. Use `zero_division` parameter to control this behavior.\n",
      "  _warn_prf(average, modifier, msg_start, len(result))\n"
     ]
    }
   ],
   "source": [
    "print(confusion_matrix(y_test_left,y_pred_left))\n",
    "print(classification_report(y_test_left,y_pred_left))\n",
    "print(accuracy_score(y_test_left, y_pred_left))"
   ]
  },
  {
   "cell_type": "code",
   "execution_count": 12,
   "metadata": {},
   "outputs": [],
   "source": [
    "model = RandomForestClassifier(n_estimators= 250, random_state= 30)\n",
    "model.fit(X_train_left,y_train_left)\n",
    "y_pred_left = model.predict(X_test_left)"
   ]
  },
  {
   "cell_type": "code",
   "execution_count": 13,
   "metadata": {},
   "outputs": [
    {
     "name": "stdout",
     "output_type": "stream",
     "text": [
      "[[6269    0    0   36 1011   47]\n",
      " [ 252    0    0   31  296   18]\n",
      " [  60    0    0    3  175    2]\n",
      " [ 470    0    0  154  747   62]\n",
      " [1250    0    0   37 3436   38]\n",
      " [ 247    0    0   84  863  113]]\n",
      "              precision    recall  f1-score   support\n",
      "\n",
      "           0       0.73      0.85      0.79      7363\n",
      "           1       0.00      0.00      0.00       597\n",
      "           2       0.00      0.00      0.00       240\n",
      "           3       0.45      0.11      0.17      1433\n",
      "           4       0.53      0.72      0.61      4761\n",
      "           5       0.40      0.09      0.14      1307\n",
      "\n",
      "    accuracy                           0.64     15701\n",
      "   macro avg       0.35      0.29      0.29     15701\n",
      "weighted avg       0.58      0.64      0.58     15701\n",
      "\n",
      "0.6351187822431692\n"
     ]
    },
    {
     "name": "stderr",
     "output_type": "stream",
     "text": [
      "C:\\Users\\Asus\\anaconda3\\lib\\site-packages\\sklearn\\metrics\\_classification.py:1221: UndefinedMetricWarning: Precision and F-score are ill-defined and being set to 0.0 in labels with no predicted samples. Use `zero_division` parameter to control this behavior.\n",
      "  _warn_prf(average, modifier, msg_start, len(result))\n"
     ]
    }
   ],
   "source": [
    "print(confusion_matrix(y_test_left,y_pred_left))\n",
    "print(classification_report(y_test_left,y_pred_left))\n",
    "print(accuracy_score(y_test_left, y_pred_left))"
   ]
  },
  {
   "cell_type": "code",
   "execution_count": 14,
   "metadata": {},
   "outputs": [],
   "source": [
    "model = RandomForestClassifier(n_estimators= 1000, random_state= 30)\n",
    "model.fit(X_train_left,y_train_left)\n",
    "y_pred_left = model.predict(X_test_left)"
   ]
  },
  {
   "cell_type": "code",
   "execution_count": 15,
   "metadata": {},
   "outputs": [
    {
     "name": "stdout",
     "output_type": "stream",
     "text": [
      "[[6263    0    0   33 1021   46]\n",
      " [ 253    0    0   30  297   17]\n",
      " [  59    0    0    2  176    3]\n",
      " [ 469    0    0  136  768   60]\n",
      " [1190    0    0   36 3501   34]\n",
      " [ 218    0    0   76  906  107]]\n",
      "              precision    recall  f1-score   support\n",
      "\n",
      "           0       0.74      0.85      0.79      7363\n",
      "           1       0.00      0.00      0.00       597\n",
      "           2       0.00      0.00      0.00       240\n",
      "           3       0.43      0.09      0.16      1433\n",
      "           4       0.52      0.74      0.61      4761\n",
      "           5       0.40      0.08      0.14      1307\n",
      "\n",
      "    accuracy                           0.64     15701\n",
      "   macro avg       0.35      0.29      0.28     15701\n",
      "weighted avg       0.58      0.64      0.58     15701\n",
      "\n",
      "0.6373479396216801\n"
     ]
    },
    {
     "name": "stderr",
     "output_type": "stream",
     "text": [
      "C:\\Users\\Asus\\anaconda3\\lib\\site-packages\\sklearn\\metrics\\_classification.py:1221: UndefinedMetricWarning: Precision and F-score are ill-defined and being set to 0.0 in labels with no predicted samples. Use `zero_division` parameter to control this behavior.\n",
      "  _warn_prf(average, modifier, msg_start, len(result))\n"
     ]
    }
   ],
   "source": [
    "print(confusion_matrix(y_test_left,y_pred_left))\n",
    "print(classification_report(y_test_left,y_pred_left))\n",
    "print(accuracy_score(y_test_left, y_pred_left))"
   ]
  },
  {
   "cell_type": "code",
   "execution_count": null,
   "metadata": {},
   "outputs": [],
   "source": []
  }
 ],
 "metadata": {
  "kernelspec": {
   "display_name": "Python 3",
   "language": "python",
   "name": "python3"
  },
  "language_info": {
   "codemirror_mode": {
    "name": "ipython",
    "version": 3
   },
   "file_extension": ".py",
   "mimetype": "text/x-python",
   "name": "python",
   "nbconvert_exporter": "python",
   "pygments_lexer": "ipython3",
   "version": "3.8.5"
  }
 },
 "nbformat": 4,
 "nbformat_minor": 4
}

{
 "cells": [
  {
   "cell_type": "code",
   "execution_count": 15,
   "metadata": {},
   "outputs": [],
   "source": [
    "from sklearn.model_selection import train_test_split\n",
    "from sklearn.ensemble import RandomForestClassifier \n",
    "import pandas as pd\n",
    "from sklearn.metrics import accuracy_score, classification_report, confusion_matrix\n",
    "from sklearn.preprocessing import StandardScaler"
   ]
  },
  {
   "cell_type": "code",
   "execution_count": 16,
   "metadata": {},
   "outputs": [],
   "source": [
    "preprocessed_df_left = pd.read_csv(\"C:/Users/Asus/Desktop/Master Thesis/bbdc_2020_public_data/bbdc_2020/preprocessed/train_left.csv\")\n",
    "X_train_left, X_test_left, y_train_left, y_test_left = train_test_split(preprocessed_df_left.iloc[:,:-1], preprocessed_df_left.iloc[:,-1], test_size = 0.70)"
   ]
  },
  {
   "cell_type": "code",
   "execution_count": 17,
   "metadata": {},
   "outputs": [],
   "source": [
    "preprocessed_df_right = pd.read_csv(\"C:/Users/Asus/Desktop/Master Thesis/bbdc_2020_public_data/bbdc_2020/preprocessed/train_right.csv\")\n",
    "X_train_right, X_test_right, y_train_right, y_test_right = train_test_split(preprocessed_df_right.iloc[:,:-1], preprocessed_df_right.iloc[:,-1], test_size = 0.70)"
   ]
  },
  {
   "cell_type": "code",
   "execution_count": 18,
   "metadata": {},
   "outputs": [],
   "source": [
    "sc = StandardScaler()\n",
    "X_train_left = sc.fit_transform(X_train_left)\n",
    "X_test_left = sc.transform(X_test_left)"
   ]
  },
  {
   "cell_type": "code",
   "execution_count": 19,
   "metadata": {},
   "outputs": [],
   "source": [
    "model = RandomForestClassifier(n_estimators= 50, random_state= 30)\n",
    "model.fit(X_train_left,y_train_left)\n",
    "y_pred_left = model.predict(X_test_left)"
   ]
  },
  {
   "cell_type": "code",
   "execution_count": 20,
   "metadata": {},
   "outputs": [
    {
     "name": "stdout",
     "output_type": "stream",
     "text": [
      "[[6379   11    0   82  829  111]\n",
      " [ 190   35    0   63  249   40]\n",
      " [  40    0    0    8  203    8]\n",
      " [ 362    5    0  338  648   97]\n",
      " [ 762    6    0  150 3621  113]\n",
      " [ 183    7    0  145  703  313]]\n",
      "              precision    recall  f1-score   support\n",
      "\n",
      "           0       0.81      0.86      0.83      7412\n",
      "           1       0.55      0.06      0.11       577\n",
      "           2       0.00      0.00      0.00       259\n",
      "           3       0.43      0.23      0.30      1450\n",
      "           4       0.58      0.78      0.66      4652\n",
      "           5       0.46      0.23      0.31      1351\n",
      "\n",
      "    accuracy                           0.68     15701\n",
      "   macro avg       0.47      0.36      0.37     15701\n",
      "weighted avg       0.65      0.68      0.65     15701\n",
      "\n",
      "0.680593592764792\n"
     ]
    },
    {
     "name": "stderr",
     "output_type": "stream",
     "text": [
      "C:\\Users\\Asus\\anaconda3\\lib\\site-packages\\sklearn\\metrics\\_classification.py:1221: UndefinedMetricWarning: Precision and F-score are ill-defined and being set to 0.0 in labels with no predicted samples. Use `zero_division` parameter to control this behavior.\n",
      "  _warn_prf(average, modifier, msg_start, len(result))\n"
     ]
    }
   ],
   "source": [
    "print(confusion_matrix(y_test_left,y_pred_left))\n",
    "print(classification_report(y_test_left,y_pred_left))\n",
    "print(accuracy_score(y_test_left, y_pred_left))"
   ]
  },
  {
   "cell_type": "code",
   "execution_count": 21,
   "metadata": {},
   "outputs": [],
   "source": [
    "model = RandomForestClassifier(n_estimators= 100, random_state= 30)\n",
    "model.fit(X_train_left,y_train_left)\n",
    "y_pred_left = model.predict(X_test_left)"
   ]
  },
  {
   "cell_type": "code",
   "execution_count": 22,
   "metadata": {},
   "outputs": [
    {
     "name": "stdout",
     "output_type": "stream",
     "text": [
      "[[6373   10    0   79  838  112]\n",
      " [ 185   30    0   67  258   37]\n",
      " [  43    0    0    7  197   12]\n",
      " [ 358    3    0  344  652   93]\n",
      " [ 724    4    0  130 3698   96]\n",
      " [ 178    0    0  131  714  328]]\n",
      "              precision    recall  f1-score   support\n",
      "\n",
      "           0       0.81      0.86      0.83      7412\n",
      "           1       0.64      0.05      0.10       577\n",
      "           2       0.00      0.00      0.00       259\n",
      "           3       0.45      0.24      0.31      1450\n",
      "           4       0.58      0.79      0.67      4652\n",
      "           5       0.48      0.24      0.32      1351\n",
      "\n",
      "    accuracy                           0.69     15701\n",
      "   macro avg       0.49      0.36      0.37     15701\n",
      "weighted avg       0.66      0.69      0.65     15701\n",
      "\n",
      "0.686134641105662\n"
     ]
    },
    {
     "name": "stderr",
     "output_type": "stream",
     "text": [
      "C:\\Users\\Asus\\anaconda3\\lib\\site-packages\\sklearn\\metrics\\_classification.py:1221: UndefinedMetricWarning: Precision and F-score are ill-defined and being set to 0.0 in labels with no predicted samples. Use `zero_division` parameter to control this behavior.\n",
      "  _warn_prf(average, modifier, msg_start, len(result))\n"
     ]
    }
   ],
   "source": [
    "print(confusion_matrix(y_test_left,y_pred_left))\n",
    "print(classification_report(y_test_left,y_pred_left))\n",
    "print(accuracy_score(y_test_left, y_pred_left))"
   ]
  },
  {
   "cell_type": "code",
   "execution_count": 23,
   "metadata": {},
   "outputs": [],
   "source": [
    "model = RandomForestClassifier(n_estimators= 150, random_state= 30)\n",
    "model.fit(X_train_left,y_train_left)\n",
    "y_pred_left = model.predict(X_test_left)"
   ]
  },
  {
   "cell_type": "code",
   "execution_count": 24,
   "metadata": {},
   "outputs": [
    {
     "name": "stdout",
     "output_type": "stream",
     "text": [
      "[[6386   11    0   75  826  114]\n",
      " [ 175   35    0   62  260   45]\n",
      " [  36    0    0    6  205   12]\n",
      " [ 352    4    0  338  650  106]\n",
      " [ 714    7    0  123 3720   88]\n",
      " [ 184    0    0  124  710  333]]\n",
      "              precision    recall  f1-score   support\n",
      "\n",
      "           0       0.81      0.86      0.84      7412\n",
      "           1       0.61      0.06      0.11       577\n",
      "           2       0.00      0.00      0.00       259\n",
      "           3       0.46      0.23      0.31      1450\n",
      "           4       0.58      0.80      0.67      4652\n",
      "           5       0.48      0.25      0.33      1351\n",
      "\n",
      "    accuracy                           0.69     15701\n",
      "   macro avg       0.49      0.37      0.38     15701\n",
      "weighted avg       0.66      0.69      0.66     15701\n",
      "\n",
      "0.6886185593274313\n"
     ]
    },
    {
     "name": "stderr",
     "output_type": "stream",
     "text": [
      "C:\\Users\\Asus\\anaconda3\\lib\\site-packages\\sklearn\\metrics\\_classification.py:1221: UndefinedMetricWarning: Precision and F-score are ill-defined and being set to 0.0 in labels with no predicted samples. Use `zero_division` parameter to control this behavior.\n",
      "  _warn_prf(average, modifier, msg_start, len(result))\n"
     ]
    }
   ],
   "source": [
    "print(confusion_matrix(y_test_left,y_pred_left))\n",
    "print(classification_report(y_test_left,y_pred_left))\n",
    "print(accuracy_score(y_test_left, y_pred_left))"
   ]
  },
  {
   "cell_type": "code",
   "execution_count": 25,
   "metadata": {},
   "outputs": [],
   "source": [
    "model = RandomForestClassifier(n_estimators= 200, random_state= 30)\n",
    "model.fit(X_train_left,y_train_left)\n",
    "y_pred_left = model.predict(X_test_left)"
   ]
  },
  {
   "cell_type": "code",
   "execution_count": 26,
   "metadata": {},
   "outputs": [
    {
     "name": "stdout",
     "output_type": "stream",
     "text": [
      "[[6367   10    0   89  842  104]\n",
      " [ 179   35    0   57  257   49]\n",
      " [  37    0    0    7  204   11]\n",
      " [ 350    4    0  346  649  101]\n",
      " [ 707    6    0  123 3727   89]\n",
      " [ 182    0    0  123  713  333]]\n",
      "              precision    recall  f1-score   support\n",
      "\n",
      "           0       0.81      0.86      0.84      7412\n",
      "           1       0.64      0.06      0.11       577\n",
      "           2       0.00      0.00      0.00       259\n",
      "           3       0.46      0.24      0.32      1450\n",
      "           4       0.58      0.80      0.67      4652\n",
      "           5       0.48      0.25      0.33      1351\n",
      "\n",
      "    accuracy                           0.69     15701\n",
      "   macro avg       0.50      0.37      0.38     15701\n",
      "weighted avg       0.67      0.69      0.66     15701\n",
      "\n",
      "0.688363798484173\n"
     ]
    },
    {
     "name": "stderr",
     "output_type": "stream",
     "text": [
      "C:\\Users\\Asus\\anaconda3\\lib\\site-packages\\sklearn\\metrics\\_classification.py:1221: UndefinedMetricWarning: Precision and F-score are ill-defined and being set to 0.0 in labels with no predicted samples. Use `zero_division` parameter to control this behavior.\n",
      "  _warn_prf(average, modifier, msg_start, len(result))\n"
     ]
    }
   ],
   "source": [
    "print(confusion_matrix(y_test_left,y_pred_left))\n",
    "print(classification_report(y_test_left,y_pred_left))\n",
    "print(accuracy_score(y_test_left, y_pred_left))"
   ]
  },
  {
   "cell_type": "code",
   "execution_count": 27,
   "metadata": {},
   "outputs": [],
   "source": [
    "model = RandomForestClassifier(n_estimators= 250, random_state= 30)\n",
    "model.fit(X_train_left,y_train_left)\n",
    "y_pred_left = model.predict(X_test_left)"
   ]
  },
  {
   "cell_type": "code",
   "execution_count": 28,
   "metadata": {},
   "outputs": [
    {
     "name": "stdout",
     "output_type": "stream",
     "text": [
      "[[6371    9    0   89  842  101]\n",
      " [ 179   37    0   60  254   47]\n",
      " [  38    0    0    7  203   11]\n",
      " [ 350    4    0  343  645  108]\n",
      " [ 713    6    0  123 3722   88]\n",
      " [ 183    0    0  121  707  340]]\n",
      "              precision    recall  f1-score   support\n",
      "\n",
      "           0       0.81      0.86      0.84      7412\n",
      "           1       0.66      0.06      0.12       577\n",
      "           2       0.00      0.00      0.00       259\n",
      "           3       0.46      0.24      0.31      1450\n",
      "           4       0.58      0.80      0.68      4652\n",
      "           5       0.49      0.25      0.33      1351\n",
      "\n",
      "    accuracy                           0.69     15701\n",
      "   macro avg       0.50      0.37      0.38     15701\n",
      "weighted avg       0.67      0.69      0.66     15701\n",
      "\n",
      "0.688682249538246\n"
     ]
    },
    {
     "name": "stderr",
     "output_type": "stream",
     "text": [
      "C:\\Users\\Asus\\anaconda3\\lib\\site-packages\\sklearn\\metrics\\_classification.py:1221: UndefinedMetricWarning: Precision and F-score are ill-defined and being set to 0.0 in labels with no predicted samples. Use `zero_division` parameter to control this behavior.\n",
      "  _warn_prf(average, modifier, msg_start, len(result))\n"
     ]
    }
   ],
   "source": [
    "print(confusion_matrix(y_test_left,y_pred_left))\n",
    "print(classification_report(y_test_left,y_pred_left))\n",
    "print(accuracy_score(y_test_left, y_pred_left))"
   ]
  },
  {
   "cell_type": "code",
   "execution_count": 29,
   "metadata": {},
   "outputs": [],
   "source": [
    "model = RandomForestClassifier(n_estimators= 500, random_state= 30)\n",
    "model.fit(X_train_left,y_train_left)\n",
    "y_pred_left = model.predict(X_test_left)"
   ]
  },
  {
   "cell_type": "code",
   "execution_count": 30,
   "metadata": {},
   "outputs": [
    {
     "name": "stdout",
     "output_type": "stream",
     "text": [
      "[[6379    8    0   85  831  109]\n",
      " [ 183   33    0   66  255   40]\n",
      " [  38    0    0    6  205   10]\n",
      " [ 345    3    0  341  657  104]\n",
      " [ 703    4    0  111 3745   89]\n",
      " [ 178    0    0  121  703  349]]\n",
      "              precision    recall  f1-score   support\n",
      "\n",
      "           0       0.82      0.86      0.84      7412\n",
      "           1       0.69      0.06      0.11       577\n",
      "           2       0.00      0.00      0.00       259\n",
      "           3       0.47      0.24      0.31      1450\n",
      "           4       0.59      0.81      0.68      4652\n",
      "           5       0.50      0.26      0.34      1351\n",
      "\n",
      "    accuracy                           0.69     15701\n",
      "   macro avg       0.51      0.37      0.38     15701\n",
      "weighted avg       0.67      0.69      0.66     15701\n",
      "\n",
      "0.6908477167059422\n"
     ]
    },
    {
     "name": "stderr",
     "output_type": "stream",
     "text": [
      "C:\\Users\\Asus\\anaconda3\\lib\\site-packages\\sklearn\\metrics\\_classification.py:1221: UndefinedMetricWarning: Precision and F-score are ill-defined and being set to 0.0 in labels with no predicted samples. Use `zero_division` parameter to control this behavior.\n",
      "  _warn_prf(average, modifier, msg_start, len(result))\n"
     ]
    }
   ],
   "source": [
    "print(confusion_matrix(y_test_left,y_pred_left))\n",
    "print(classification_report(y_test_left,y_pred_left))\n",
    "print(accuracy_score(y_test_left, y_pred_left))"
   ]
  },
  {
   "cell_type": "code",
   "execution_count": 31,
   "metadata": {},
   "outputs": [],
   "source": [
    "model = RandomForestClassifier(n_estimators= 1000, random_state= 30)\n",
    "model.fit(X_train_left,y_train_left)\n",
    "y_pred_left = model.predict(X_test_left)"
   ]
  },
  {
   "cell_type": "code",
   "execution_count": 32,
   "metadata": {},
   "outputs": [
    {
     "name": "stdout",
     "output_type": "stream",
     "text": [
      "[[6385    9    0   80  832  106]\n",
      " [ 182   35    0   68  255   37]\n",
      " [  36    0    0    6  209    8]\n",
      " [ 344    3    0  339  659  105]\n",
      " [ 695    3    0  111 3757   86]\n",
      " [ 175    0    0  113  710  353]]\n",
      "              precision    recall  f1-score   support\n",
      "\n",
      "           0       0.82      0.86      0.84      7412\n",
      "           1       0.70      0.06      0.11       577\n",
      "           2       0.00      0.00      0.00       259\n",
      "           3       0.47      0.23      0.31      1450\n",
      "           4       0.59      0.81      0.68      4652\n",
      "           5       0.51      0.26      0.35      1351\n",
      "\n",
      "    accuracy                           0.69     15701\n",
      "   macro avg       0.51      0.37      0.38     15701\n",
      "weighted avg       0.67      0.69      0.66     15701\n",
      "\n",
      "0.6922489013438634\n"
     ]
    },
    {
     "name": "stderr",
     "output_type": "stream",
     "text": [
      "C:\\Users\\Asus\\anaconda3\\lib\\site-packages\\sklearn\\metrics\\_classification.py:1221: UndefinedMetricWarning: Precision and F-score are ill-defined and being set to 0.0 in labels with no predicted samples. Use `zero_division` parameter to control this behavior.\n",
      "  _warn_prf(average, modifier, msg_start, len(result))\n"
     ]
    }
   ],
   "source": [
    "print(confusion_matrix(y_test_left,y_pred_left))\n",
    "print(classification_report(y_test_left,y_pred_left))\n",
    "print(accuracy_score(y_test_left, y_pred_left))"
   ]
  },
  {
   "cell_type": "code",
   "execution_count": null,
   "metadata": {},
   "outputs": [],
   "source": []
  }
 ],
 "metadata": {
  "kernelspec": {
   "display_name": "Python 3",
   "language": "python",
   "name": "python3"
  },
  "language_info": {
   "codemirror_mode": {
    "name": "ipython",
    "version": 3
   },
   "file_extension": ".py",
   "mimetype": "text/x-python",
   "name": "python",
   "nbconvert_exporter": "python",
   "pygments_lexer": "ipython3",
   "version": "3.8.5"
  }
 },
 "nbformat": 4,
 "nbformat_minor": 4
}

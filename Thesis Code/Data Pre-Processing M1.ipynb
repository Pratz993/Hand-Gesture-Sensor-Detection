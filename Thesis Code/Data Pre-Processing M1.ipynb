{
 "cells": [
  {
   "cell_type": "code",
   "execution_count": 1,
   "metadata": {},
   "outputs": [],
   "source": [
    "import pandas as pd\n",
    "import numpy as np\n",
    "import os"
   ]
  },
  {
   "cell_type": "code",
   "execution_count": 2,
   "metadata": {},
   "outputs": [],
   "source": [
    "file_dir = \"C:/Users/Asus/Desktop/Master Thesis/bbdc_2020_public_data/bbdc_2020/train/emg\"\n",
    "entries = os.listdir(file_dir)\n",
    "subjects = []\n",
    "\n",
    "#listed the files in the local folder to fetch all the subjects in 1 go.\n",
    "def load_files(files,sub_data,dir_st):\n",
    "    for subject_file in files:\n",
    "        sub_data.append(pd.read_csv(dir_st + \"/\" + subject_file))\n",
    "    return sub_data\n",
    "\n",
    "subjects = load_files(entries,subjects,file_dir)"
   ]
  },
  {
   "cell_type": "code",
   "execution_count": 3,
   "metadata": {},
   "outputs": [],
   "source": [
    "#Label file extraction\n",
    "label_file = \"C:/Users/Asus/Desktop/Master Thesis/bbdc_2020_public_data/bbdc_2020/train/labels.train.csv\"\n",
    "label_df = pd.read_csv(label_file)"
   ]
  },
  {
   "cell_type": "code",
   "execution_count": 4,
   "metadata": {},
   "outputs": [],
   "source": [
    "#Forming a map with the label class\n",
    "subjects_hand_unique = list(label_df['Subject Hand'].unique())\n",
    "subjects_hand_left = [hand for hand in subjects_hand_unique if not hand.endswith('ra')]\n",
    "subjects_hand_right = [hand for hand in subjects_hand_unique if not hand.endswith('la')]"
   ]
  },
  {
   "cell_type": "code",
   "execution_count": 5,
   "metadata": {},
   "outputs": [],
   "source": [
    "label_subjects_left = []\n",
    "label_subjects_right = []\n",
    "for lab in subjects_hand_left:\n",
    "    temp_df = label_df[label_df['Subject Hand'] == lab]\n",
    "    temp_index = [temp_row for temp_row in range(temp_df.shape[0])]\n",
    "    temp_df.index = temp_index\n",
    "    label_subjects_left.append(temp_df)\n",
    "    del temp_df\n",
    "    del temp_index\n",
    "for lab in subjects_hand_right:\n",
    "    temp_df = label_df[label_df['Subject Hand'] == lab]\n",
    "    temp_index = [temp_row for temp_row in range(temp_df.shape[0])]\n",
    "    temp_df.index = temp_index\n",
    "    label_subjects_right.append(temp_df)\n",
    "    del temp_df\n",
    "    del temp_index"
   ]
  },
  {
   "cell_type": "code",
   "execution_count": 6,
   "metadata": {
    "tags": []
   },
   "outputs": [],
   "source": [
    "label_mapping_left = {'la-nothing':0,'la-object-orient':1,'la-object-switch-hands':2,'la-object-place':3,'la-object-carry':4,'la-object-pick':5}\n",
    "label_mapping_right = {'ra-nothing':0,'ra-object-orient':1,'ra-object-switch-hands':2,'ra-object-place':3,'ra-object-carry':4,'ra-object-pick':5}"
   ]
  },
  {
   "cell_type": "code",
   "execution_count": 7,
   "metadata": {
    "scrolled": false,
    "tags": []
   },
   "outputs": [],
   "source": [
    "#Feature Extraction\n",
    "from IPython.core.debugger import set_trace\n",
    "subject_features_left = []\n",
    "subject_features_right = []\n",
    "\n",
    "def feature_extraction(subject_data, label_subject, lab_map):\n",
    "    feature_variables = pd.DataFrame()\n",
    "    for label_ob_row in range(0,len(label_subject)):\n",
    "        start_time = label_subject.loc[label_ob_row,'Start Time']\n",
    "        end_time = label_subject.loc[label_ob_row, 'End Time']\n",
    "        hand_activity = label_subject.loc[label_ob_row, 'Hand Activity']\n",
    "        \n",
    "        subset_subject_data = subject_data.loc[(subject_data['ts'] >= start_time) & (subject_data['ts'] <= end_time)]\n",
    "        subset_subject_data = subset_subject_data.drop(columns = ['ts'],axis = 1)\n",
    "        subset_subject_data = subset_subject_data.dropna()\n",
    "        subset_subject_data = subset_subject_data[(subset_subject_data != 0).all(1)]\n",
    "                \n",
    "        temp_shape = subset_subject_data.shape[0] % 50\n",
    "        if(temp_shape != 0):\n",
    "            subset_subject_data = subset_subject_data[:-temp_shape]\n",
    "        size = 50\n",
    "        subset_subject_data = index_assign(subset_subject_data)\n",
    "        if(subset_subject_data.empty == False):\n",
    "            list_of_dfs = [subset_subject_data.iloc[i:i+size,:] for i in range(0,len(subset_subject_data),size)]\n",
    "            for data_df in range(len(list_of_dfs)):\n",
    "                result_df = features(list_of_dfs[data_df],hand_activity,lab_map)\n",
    "                result_df = index_assign(result_df)\n",
    "                feature_variables = feature_variables.append(result_df)\n",
    "                del result_df\n",
    "        feature_variables = index_assign(feature_variables)\n",
    "    return feature_variables\n",
    "\n",
    "def features(feature_data, hand_data, map_data):\n",
    "    \n",
    "    mean_df = pd.DataFrame(feature_data.mean()).transpose()\n",
    "    max_df = pd.DataFrame(feature_data.max()).transpose()\n",
    "    min_df = pd.DataFrame(feature_data.min()).transpose()\n",
    "    median_df = pd.DataFrame(feature_data.median()).transpose()\n",
    "    variance_df = pd.DataFrame(feature_data.var()).transpose()\n",
    "    mean_absolute_value_df = pd.DataFrame(feature_data.mad()).transpose()\n",
    "    rms_df = pd.DataFrame(((feature_data.pow(2)).mean())** (1/2)).transpose()\n",
    "    skew_df = pd.DataFrame(feature_data.skew()).transpose()\n",
    "    kurt_df = pd.DataFrame(feature_data.kurt()).transpose()\n",
    "    result_df = pd.concat([mean_df,median_df,min_df,max_df,variance_df,mean_absolute_value_df,rms_df,skew_df,kurt_df], axis= 1, join= 'inner')\n",
    "    result_df['Label'] = map_data[hand_data]\n",
    "    return result_df\n",
    "\n",
    "def index_assign(feature_data):\n",
    "    new_index = [index_row for index_row in range(feature_data.shape[0])]\n",
    "    feature_data.index = new_index\n",
    "    new_columns = [index_col for index_col in range(feature_data.shape[1])]\n",
    "    feature_data.columns = new_columns\n",
    "    del new_index\n",
    "    del new_columns\n",
    "    return feature_data\n",
    "\n",
    "\n",
    "for list_number in range(len(subjects)):\n",
    "    features_train = feature_extraction(subjects[list_number], label_subjects_left[list_number], label_mapping_left)\n",
    "    if(features_train.empty == False):\n",
    "        subject_features_left.append(features_train)\n",
    "    del features_train\n",
    "\n",
    "for list_number in range(len(subjects)):\n",
    "    features_train = feature_extraction(subjects[list_number], label_subjects_right[list_number], label_mapping_right)\n",
    "    if(features_train.empty == False):\n",
    "        subject_features_right.append(features_train)\n",
    "    del features_train"
   ]
  },
  {
   "cell_type": "code",
   "execution_count": 8,
   "metadata": {
    "tags": []
   },
   "outputs": [
    {
     "name": "stdout",
     "output_type": "stream",
     "text": [
      "(1395, 73) (1868, 73) (1264, 73) (1174, 73) (1295, 73) (710, 73) (1504, 73) (1644, 73) (2137, 73) (1752, 73) (1468, 73) (4112, 73) (2107, 73) ################################\n",
      "################################\n"
     ]
    }
   ],
   "source": [
    "for list_ele in range(len(subject_features_left)):\n",
    "    print(subject_features_left[list_ele].shape, end= \" \")\n",
    "\n",
    "print(\"################################\")\n",
    "print(\"################################\")\n"
   ]
  },
  {
   "cell_type": "code",
   "execution_count": 9,
   "metadata": {},
   "outputs": [],
   "source": [
    "train_left = pd.concat(subject_features_left)"
   ]
  },
  {
   "cell_type": "code",
   "execution_count": 10,
   "metadata": {},
   "outputs": [],
   "source": [
    "train_left = index_assign(train_left)"
   ]
  },
  {
   "cell_type": "code",
   "execution_count": 11,
   "metadata": {},
   "outputs": [],
   "source": [
    "train_right = pd.concat(subject_features_right)"
   ]
  },
  {
   "cell_type": "code",
   "execution_count": 12,
   "metadata": {},
   "outputs": [],
   "source": [
    "train_right = index_assign(train_right)"
   ]
  },
  {
   "cell_type": "code",
   "execution_count": 13,
   "metadata": {},
   "outputs": [
    {
     "data": {
      "text/plain": [
       "(22430, 73)"
      ]
     },
     "execution_count": 13,
     "metadata": {},
     "output_type": "execute_result"
    }
   ],
   "source": [
    "train_left.shape"
   ]
  },
  {
   "cell_type": "code",
   "execution_count": 14,
   "metadata": {},
   "outputs": [],
   "source": [
    "train_left.to_csv(r'C:/Users/Asus/Desktop/Master Thesis/bbdc_2020_public_data/bbdc_2020/preprocessed/train_left.csv',index = False)\n",
    "train_right.to_csv(r'C:/Users/Asus/Desktop/Master Thesis/bbdc_2020_public_data/bbdc_2020/preprocessed/train_right.csv',index = False)"
   ]
  },
  {
   "cell_type": "code",
   "execution_count": null,
   "metadata": {},
   "outputs": [],
   "source": []
  }
 ],
 "metadata": {
  "kernelspec": {
   "display_name": "Python 3",
   "language": "python",
   "name": "python3"
  },
  "language_info": {
   "codemirror_mode": {
    "name": "ipython",
    "version": 3
   },
   "file_extension": ".py",
   "mimetype": "text/x-python",
   "name": "python",
   "nbconvert_exporter": "python",
   "pygments_lexer": "ipython3",
   "version": "3.8.5"
  }
 },
 "nbformat": 4,
 "nbformat_minor": 2
}

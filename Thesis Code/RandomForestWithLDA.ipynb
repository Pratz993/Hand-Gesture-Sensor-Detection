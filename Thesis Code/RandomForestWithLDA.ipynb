{
 "cells": [
  {
   "cell_type": "code",
   "execution_count": 1,
   "metadata": {},
   "outputs": [],
   "source": [
    "from sklearn.model_selection import train_test_split\n",
    "from sklearn.ensemble import RandomForestClassifier \n",
    "import pandas as pd\n",
    "from sklearn.metrics import accuracy_score, classification_report, confusion_matrix\n",
    "from sklearn.preprocessing import StandardScaler\n",
    "from sklearn.discriminant_analysis import LinearDiscriminantAnalysis as LDA"
   ]
  },
  {
   "cell_type": "code",
   "execution_count": 2,
   "metadata": {},
   "outputs": [],
   "source": [
    "preprocessed_df_left = pd.read_csv(\"C:/Users/Asus/Desktop/Master Thesis/bbdc_2020_public_data/bbdc_2020/preprocessed/train_left.csv\")\n",
    "X_train_left, X_test_left, y_train_left, y_test_left = train_test_split(preprocessed_df_left.iloc[:,:-1], preprocessed_df_left.iloc[:,-1], test_size = 0.70)"
   ]
  },
  {
   "cell_type": "code",
   "execution_count": 3,
   "metadata": {},
   "outputs": [],
   "source": [
    "sc = StandardScaler()\n",
    "X_train_left = sc.fit_transform(X_train_left)\n",
    "X_test_left = sc.transform(X_test_left)"
   ]
  },
  {
   "cell_type": "code",
   "execution_count": 15,
   "metadata": {},
   "outputs": [],
   "source": [
    "lda = LDA(n_components=5)\n",
    "X_train_left = lda.fit_transform(X_train_left, y_train_left)\n",
    "X_test_left = lda.transform(X_test_left)"
   ]
  },
  {
   "cell_type": "code",
   "execution_count": 16,
   "metadata": {},
   "outputs": [],
   "source": [
    "model = RandomForestClassifier(n_estimators= 50, random_state= 30)\n",
    "model.fit(X_train_left,y_train_left)\n",
    "y_pred_left = model.predict(X_test_left)"
   ]
  },
  {
   "cell_type": "code",
   "execution_count": 17,
   "metadata": {},
   "outputs": [
    {
     "name": "stdout",
     "output_type": "stream",
     "text": [
      "[[5930   41    2  178 1057  120]\n",
      " [ 218   14    0   77  231   69]\n",
      " [  59    1    2   19  152   11]\n",
      " [ 400   19    1  309  579  145]\n",
      " [1209   18    8  270 2970  205]\n",
      " [ 212   19    3  229  658  266]]\n",
      "              precision    recall  f1-score   support\n",
      "\n",
      "           0       0.74      0.81      0.77      7328\n",
      "           1       0.12      0.02      0.04       609\n",
      "           2       0.12      0.01      0.02       244\n",
      "           3       0.29      0.21      0.24      1453\n",
      "           4       0.53      0.63      0.58      4680\n",
      "           5       0.33      0.19      0.24      1387\n",
      "\n",
      "    accuracy                           0.60     15701\n",
      "   macro avg       0.35      0.31      0.31     15701\n",
      "weighted avg       0.56      0.60      0.58     15701\n",
      "\n",
      "0.6044837908413477\n"
     ]
    }
   ],
   "source": [
    "print(confusion_matrix(y_test_left,y_pred_left))\n",
    "print(classification_report(y_test_left,y_pred_left))\n",
    "print(accuracy_score(y_test_left, y_pred_left))"
   ]
  },
  {
   "cell_type": "code",
   "execution_count": 18,
   "metadata": {},
   "outputs": [],
   "source": [
    "model = RandomForestClassifier(n_estimators= 100, random_state= 30)\n",
    "model.fit(X_train_left,y_train_left)\n",
    "y_pred_left = model.predict(X_test_left)"
   ]
  },
  {
   "cell_type": "code",
   "execution_count": 19,
   "metadata": {},
   "outputs": [
    {
     "name": "stdout",
     "output_type": "stream",
     "text": [
      "[[5929   31    1  177 1068  122]\n",
      " [ 220   11    0   81  235   62]\n",
      " [  56    1    0   18  155   14]\n",
      " [ 392   13    0  308  600  140]\n",
      " [1196   21    5  265 2989  204]\n",
      " [ 208   17    3  220  677  262]]\n",
      "              precision    recall  f1-score   support\n",
      "\n",
      "           0       0.74      0.81      0.77      7328\n",
      "           1       0.12      0.02      0.03       609\n",
      "           2       0.00      0.00      0.00       244\n",
      "           3       0.29      0.21      0.24      1453\n",
      "           4       0.52      0.64      0.57      4680\n",
      "           5       0.33      0.19      0.24      1387\n",
      "\n",
      "    accuracy                           0.60     15701\n",
      "   macro avg       0.33      0.31      0.31     15701\n",
      "weighted avg       0.56      0.60      0.58     15701\n",
      "\n",
      "0.6049933125278645\n"
     ]
    }
   ],
   "source": [
    "print(confusion_matrix(y_test_left,y_pred_left))\n",
    "print(classification_report(y_test_left,y_pred_left))\n",
    "print(accuracy_score(y_test_left, y_pred_left))"
   ]
  },
  {
   "cell_type": "code",
   "execution_count": 20,
   "metadata": {},
   "outputs": [],
   "source": [
    "model = RandomForestClassifier(n_estimators= 150, random_state= 30)\n",
    "model.fit(X_train_left,y_train_left)\n",
    "y_pred_left = model.predict(X_test_left)"
   ]
  },
  {
   "cell_type": "code",
   "execution_count": 21,
   "metadata": {},
   "outputs": [
    {
     "name": "stdout",
     "output_type": "stream",
     "text": [
      "[[5906   27    1  184 1086  124]\n",
      " [ 219   14    0   84  234   58]\n",
      " [  55    2    0   19  157   11]\n",
      " [ 388   13    0  302  612  138]\n",
      " [1177   19    3  261 3014  206]\n",
      " [ 201   19    1  225  670  271]]\n",
      "              precision    recall  f1-score   support\n",
      "\n",
      "           0       0.74      0.81      0.77      7328\n",
      "           1       0.15      0.02      0.04       609\n",
      "           2       0.00      0.00      0.00       244\n",
      "           3       0.28      0.21      0.24      1453\n",
      "           4       0.52      0.64      0.58      4680\n",
      "           5       0.34      0.20      0.25      1387\n",
      "\n",
      "    accuracy                           0.61     15701\n",
      "   macro avg       0.34      0.31      0.31     15701\n",
      "weighted avg       0.56      0.61      0.58     15701\n",
      "\n",
      "0.6055028342143812\n"
     ]
    }
   ],
   "source": [
    "print(confusion_matrix(y_test_left,y_pred_left))\n",
    "print(classification_report(y_test_left,y_pred_left))\n",
    "print(accuracy_score(y_test_left, y_pred_left))"
   ]
  },
  {
   "cell_type": "code",
   "execution_count": 22,
   "metadata": {},
   "outputs": [],
   "source": [
    "model = RandomForestClassifier(n_estimators= 250, random_state= 30)\n",
    "model.fit(X_train_left,y_train_left)\n",
    "y_pred_left = model.predict(X_test_left)"
   ]
  },
  {
   "cell_type": "code",
   "execution_count": 23,
   "metadata": {},
   "outputs": [
    {
     "name": "stdout",
     "output_type": "stream",
     "text": [
      "[[5905   27    1  181 1086  128]\n",
      " [ 219   14    0   89  228   59]\n",
      " [  53    2    0   18  158   13]\n",
      " [ 386   13    0  300  616  138]\n",
      " [1184   18    4  262 3008  204]\n",
      " [ 200   18    1  225  664  279]]\n",
      "              precision    recall  f1-score   support\n",
      "\n",
      "           0       0.74      0.81      0.77      7328\n",
      "           1       0.15      0.02      0.04       609\n",
      "           2       0.00      0.00      0.00       244\n",
      "           3       0.28      0.21      0.24      1453\n",
      "           4       0.52      0.64      0.58      4680\n",
      "           5       0.34      0.20      0.25      1387\n",
      "\n",
      "    accuracy                           0.61     15701\n",
      "   macro avg       0.34      0.31      0.31     15701\n",
      "weighted avg       0.56      0.61      0.58     15701\n",
      "\n",
      "0.6054391440035667\n"
     ]
    }
   ],
   "source": [
    "print(confusion_matrix(y_test_left,y_pred_left))\n",
    "print(classification_report(y_test_left,y_pred_left))\n",
    "print(accuracy_score(y_test_left, y_pred_left))"
   ]
  },
  {
   "cell_type": "code",
   "execution_count": 24,
   "metadata": {},
   "outputs": [],
   "source": [
    "model = RandomForestClassifier(n_estimators= 1000, random_state= 30)\n",
    "model.fit(X_train_left,y_train_left)\n",
    "y_pred_left = model.predict(X_test_left)"
   ]
  },
  {
   "cell_type": "code",
   "execution_count": 25,
   "metadata": {},
   "outputs": [
    {
     "name": "stdout",
     "output_type": "stream",
     "text": [
      "[[5895   28    1  178 1101  125]\n",
      " [ 216   10    0   95  231   57]\n",
      " [  53    3    0   18  158   12]\n",
      " [ 380   14    0  304  621  134]\n",
      " [1160   18    2  258 3036  206]\n",
      " [ 203   20    0  224  657  283]]\n",
      "              precision    recall  f1-score   support\n",
      "\n",
      "           0       0.75      0.80      0.77      7328\n",
      "           1       0.11      0.02      0.03       609\n",
      "           2       0.00      0.00      0.00       244\n",
      "           3       0.28      0.21      0.24      1453\n",
      "           4       0.52      0.65      0.58      4680\n",
      "           5       0.35      0.20      0.26      1387\n",
      "\n",
      "    accuracy                           0.61     15701\n",
      "   macro avg       0.33      0.31      0.31     15701\n",
      "weighted avg       0.56      0.61      0.58     15701\n",
      "\n",
      "0.6068403286414878\n"
     ]
    }
   ],
   "source": [
    "print(confusion_matrix(y_test_left,y_pred_left))\n",
    "print(classification_report(y_test_left,y_pred_left))\n",
    "print(accuracy_score(y_test_left, y_pred_left))"
   ]
  },
  {
   "cell_type": "code",
   "execution_count": null,
   "metadata": {},
   "outputs": [],
   "source": []
  }
 ],
 "metadata": {
  "kernelspec": {
   "display_name": "Python 3",
   "language": "python",
   "name": "python3"
  },
  "language_info": {
   "codemirror_mode": {
    "name": "ipython",
    "version": 3
   },
   "file_extension": ".py",
   "mimetype": "text/x-python",
   "name": "python",
   "nbconvert_exporter": "python",
   "pygments_lexer": "ipython3",
   "version": "3.8.5"
  }
 },
 "nbformat": 4,
 "nbformat_minor": 4
}
